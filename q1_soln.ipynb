{
  "nbformat": 4,
  "nbformat_minor": 0,
  "metadata": {
    "colab": {
      "name": "q1_soln.ipynb",
      "provenance": [],
      "collapsed_sections": []
    },
    "kernelspec": {
      "name": "python3",
      "display_name": "Python 3"
    }
  },
  "cells": [
    {
      "cell_type": "markdown",
      "metadata": {
        "id": "94X04Y-JMA6z",
        "colab_type": "text"
      },
      "source": [
        "# Question 1"
      ]
    },
    {
      "cell_type": "code",
      "metadata": {
        "id": "V0zTLGjxuI0E",
        "colab_type": "code",
        "colab": {}
      },
      "source": [
        "import numpy as np"
      ],
      "execution_count": 0,
      "outputs": []
    },
    {
      "cell_type": "code",
      "metadata": {
        "id": "liyKuLhKuNT-",
        "colab_type": "code",
        "colab": {}
      },
      "source": [
        "# a) Generate 100 sequences of 1,000 states.  \n",
        "\n",
        "####################\n",
        "# Setting up initial\n",
        "# and transitional\n",
        "# probability matrices\n",
        "#####################\n",
        "\n",
        "initial_probs = np.array([0.5, 0.2, 0.3])\n",
        "\n",
        "transition_probs = np.array([[0.4,0.3,0.3],\n",
        "                            [0.2,0.6,0.2],\n",
        "                            [0.1,0.1,0.8]])"
      ],
      "execution_count": 0,
      "outputs": []
    },
    {
      "cell_type": "code",
      "metadata": {
        "id": "FFH11mOTu6tt",
        "colab_type": "code",
        "colab": {}
      },
      "source": [
        "####################\n",
        "# Generating 100\n",
        "# sequences of 1,000\n",
        "# states\n",
        "####################\n",
        "state_names = ['S1','S2','S3']\n",
        "num_sequences = 100\n",
        "num_states = 1000\n",
        "sequence_list = list()\n",
        "for j in range(0, num_sequences):\n",
        "  state_list = list()\n",
        "  for i in range(0, num_states):\n",
        "    if i == 0:\n",
        "      state_list.append(np.random.choice(state_names,p = initial_probs))\n",
        "    else:\n",
        "      if state_list[i-1] == 'S1':\n",
        "        state_list.append(np.random.choice(state_names,p = transition_probs[0]))\n",
        "      if state_list[i-1] == 'S2':\n",
        "        state_list.append(np.random.choice(state_names,p = transition_probs[1]))\n",
        "      if state_list[i-1] == 'S3':\n",
        "        state_list.append(np.random.choice(state_names,p = transition_probs[2]))\n",
        "  sequence_list.append(state_list)\n",
        "  \n",
        "    "
      ],
      "execution_count": 0,
      "outputs": []
    },
    {
      "cell_type": "code",
      "metadata": {
        "id": "da-pnnRvv9es",
        "colab_type": "code",
        "outputId": "155a6bab-2922-431d-e09c-8c9c48bd76ca",
        "colab": {
          "base_uri": "https://localhost:8080/",
          "height": 357
        }
      },
      "source": [
        "###########################\n",
        "# Output from sequence list\n",
        "###########################\n",
        "sequence_list[0][0:20]"
      ],
      "execution_count": 0,
      "outputs": [
        {
          "output_type": "execute_result",
          "data": {
            "text/plain": [
              "['S1',\n",
              " 'S1',\n",
              " 'S3',\n",
              " 'S3',\n",
              " 'S3',\n",
              " 'S1',\n",
              " 'S1',\n",
              " 'S1',\n",
              " 'S2',\n",
              " 'S3',\n",
              " 'S3',\n",
              " 'S3',\n",
              " 'S3',\n",
              " 'S3',\n",
              " 'S2',\n",
              " 'S2',\n",
              " 'S3',\n",
              " 'S3',\n",
              " 'S3',\n",
              " 'S3']"
            ]
          },
          "metadata": {
            "tags": []
          },
          "execution_count": 51
        }
      ]
    },
    {
      "cell_type": "code",
      "metadata": {
        "id": "_chhTAwF3kM8",
        "colab_type": "code",
        "outputId": "083e819b-c724-4867-8bed-70bdeb648de7",
        "colab": {
          "base_uri": "https://localhost:8080/",
          "height": 34
        }
      },
      "source": [
        "# b) Using the data generated in part a), estimate the initial and transitional probability matrices\n",
        "# compare these matrices with the ones used to generate the data.\n",
        "\n",
        "#####################\n",
        "# Estimating initial \n",
        "# probailities \n",
        "#####################\n",
        "\n",
        "est_initial_prob_list = np.array([sequence_list[i][0] for i in range(0,num_sequences)])\n",
        "\n",
        "estimated_initial_probs = [len(est_initial_prob_list[est_initial_prob_list == 'S1'])/len(est_initial_prob_list),\n",
        "                           len(est_initial_prob_list[est_initial_prob_list == 'S2'])/len(est_initial_prob_list),\n",
        "                           len(est_initial_prob_list[est_initial_prob_list == 'S3'])/len(est_initial_prob_list)]\n",
        "estimated_initial_probs"
      ],
      "execution_count": 0,
      "outputs": [
        {
          "output_type": "execute_result",
          "data": {
            "text/plain": [
              "[0.49, 0.18, 0.33]"
            ]
          },
          "metadata": {
            "tags": []
          },
          "execution_count": 65
        }
      ]
    },
    {
      "cell_type": "markdown",
      "metadata": {
        "id": "6fB8rVx7LpbT",
        "colab_type": "text"
      },
      "source": [
        "Estimated initial probabilities are similar to initial probabilities"
      ]
    },
    {
      "cell_type": "code",
      "metadata": {
        "id": "tuAtET-Y58L6",
        "colab_type": "code",
        "colab": {}
      },
      "source": [
        "#####################\n",
        "# Estimating transitional \n",
        "# probailities \n",
        "#####################\n",
        "\n",
        "count_matrix = np.zeros(shape =(3,3))"
      ],
      "execution_count": 0,
      "outputs": []
    },
    {
      "cell_type": "code",
      "metadata": {
        "id": "JWfKxDPZ8wu2",
        "colab_type": "code",
        "colab": {}
      },
      "source": [
        "transitional_combos = [['S1','S1'],\n",
        "                       ['S1','S2'],\n",
        "                       ['S1','S3'],\n",
        "                       ['S2','S1'],\n",
        "                       ['S2','S2'],\n",
        "                       ['S2','S3'],\n",
        "                       ['S3','S1'],\n",
        "                       ['S3','S2'],\n",
        "                       ['S3','S3']]\n",
        "\n",
        "for i in range(0,num_sequences):\n",
        "  for j in range(0,num_states):\n",
        "    if(sequence_list[i][j:j+2] == transitional_combos[0]):\n",
        "      count_matrix[0][0] += 1\n",
        "    if(sequence_list[i][j:j+2] == transitional_combos[1]):\n",
        "      count_matrix[0][1] += 1\n",
        "    if(sequence_list[i][j:j+2] == transitional_combos[2]):\n",
        "      count_matrix[0][2] += 1\n",
        "    if(sequence_list[i][j:j+2] == transitional_combos[3]):\n",
        "      count_matrix[1][0] += 1\n",
        "    if(sequence_list[i][j:j+2] == transitional_combos[4]):\n",
        "      count_matrix[1][1] += 1 \n",
        "    if(sequence_list[i][j:j+2] == transitional_combos[5]): \n",
        "      count_matrix[1][2] += 1\n",
        "    if(sequence_list[i][j:j+2] == transitional_combos[6]): \n",
        "      count_matrix[2][0] += 1\n",
        "    if(sequence_list[i][j:j+2] == transitional_combos[7]):\n",
        "      count_matrix[2][1] += 1 \n",
        "    if(sequence_list[i][j:j+2] == transitional_combos[8]): \n",
        "      count_matrix[2][2] += 1"
      ],
      "execution_count": 0,
      "outputs": []
    },
    {
      "cell_type": "code",
      "metadata": {
        "id": "d_IRzv8_HTDq",
        "colab_type": "code",
        "outputId": "3feb0b85-421f-417a-9feb-9e46e3878cbb",
        "colab": {
          "base_uri": "https://localhost:8080/",
          "height": 68
        }
      },
      "source": [
        "count_matrix"
      ],
      "execution_count": 0,
      "outputs": [
        {
          "output_type": "execute_result",
          "data": {
            "text/plain": [
              "array([[ 7415.,  5555.,  5405.],\n",
              "       [ 5492., 16491.,  5564.],\n",
              "       [ 5430.,  5521., 43027.]])"
            ]
          },
          "metadata": {
            "tags": []
          },
          "execution_count": 98
        }
      ]
    },
    {
      "cell_type": "code",
      "metadata": {
        "id": "WBbSPvC3I2iS",
        "colab_type": "code",
        "outputId": "f583de79-6d36-49ec-f335-371ee0101d87",
        "colab": {
          "base_uri": "https://localhost:8080/",
          "height": 68
        }
      },
      "source": [
        "np.round([count_matrix[0]/sum(count_matrix)[0],\n",
        " count_matrix[1]/sum(count_matrix)[1],\n",
        " count_matrix[2]/sum(count_matrix)[2]],2)"
      ],
      "execution_count": 0,
      "outputs": [
        {
          "output_type": "execute_result",
          "data": {
            "text/plain": [
              "array([[0.4 , 0.3 , 0.29],\n",
              "       [0.2 , 0.6 , 0.2 ],\n",
              "       [0.1 , 0.1 , 0.8 ]])"
            ]
          },
          "metadata": {
            "tags": []
          },
          "execution_count": 110
        }
      ]
    },
    {
      "cell_type": "markdown",
      "metadata": {
        "id": "a7cTyYaoLuOi",
        "colab_type": "text"
      },
      "source": [
        "Estimated transitional probabilities are similar to transitional probabilities"
      ]
    },
    {
      "cell_type": "code",
      "metadata": {
        "id": "VnYKOIbpLAjw",
        "colab_type": "code",
        "colab": {}
      },
      "source": [
        "# c) Repeat part (b) using hmmlearn package. You can select a suitable emission probability distri-\n",
        "# bution from available options in hmmlearn. Report the differences in the computed values from part"
      ],
      "execution_count": 0,
      "outputs": []
    },
    {
      "cell_type": "code",
      "metadata": {
        "id": "DkeUKgT_anRL",
        "colab_type": "code",
        "outputId": "0d248177-b37e-4ed2-d8de-2713c02113b4",
        "colab": {
          "base_uri": "https://localhost:8080/",
          "height": 170
        }
      },
      "source": [
        "pip install hmmlearn"
      ],
      "execution_count": 0,
      "outputs": [
        {
          "output_type": "stream",
          "text": [
            "Collecting hmmlearn\n",
            "\u001b[?25l  Downloading https://files.pythonhosted.org/packages/ff/7b/33f629a443a0671161c019e55c3f1b511c7e9fdce5ab8c8c3c33470eb939/hmmlearn-0.2.3-cp36-cp36m-manylinux1_x86_64.whl (363kB)\n",
            "\r\u001b[K     |█                               | 10kB 14.2MB/s eta 0:00:01\r\u001b[K     |█▉                              | 20kB 3.1MB/s eta 0:00:01\r\u001b[K     |██▊                             | 30kB 4.5MB/s eta 0:00:01\r\u001b[K     |███▋                            | 40kB 3.0MB/s eta 0:00:01\r\u001b[K     |████▌                           | 51kB 3.6MB/s eta 0:00:01\r\u001b[K     |█████▍                          | 61kB 4.3MB/s eta 0:00:01\r\u001b[K     |██████▎                         | 71kB 4.9MB/s eta 0:00:01\r\u001b[K     |███████▏                        | 81kB 5.5MB/s eta 0:00:01\r\u001b[K     |████████                        | 92kB 6.2MB/s eta 0:00:01\r\u001b[K     |█████████                       | 102kB 4.8MB/s eta 0:00:01\r\u001b[K     |██████████                      | 112kB 4.8MB/s eta 0:00:01\r\u001b[K     |██████████▉                     | 122kB 4.8MB/s eta 0:00:01\r\u001b[K     |███████████▊                    | 133kB 4.8MB/s eta 0:00:01\r\u001b[K     |████████████▋                   | 143kB 4.8MB/s eta 0:00:01\r\u001b[K     |█████████████▌                  | 153kB 4.8MB/s eta 0:00:01\r\u001b[K     |██████████████▍                 | 163kB 4.8MB/s eta 0:00:01\r\u001b[K     |███████████████▎                | 174kB 4.8MB/s eta 0:00:01\r\u001b[K     |████████████████▏               | 184kB 4.8MB/s eta 0:00:01\r\u001b[K     |█████████████████               | 194kB 4.8MB/s eta 0:00:01\r\u001b[K     |██████████████████              | 204kB 4.8MB/s eta 0:00:01\r\u001b[K     |███████████████████             | 215kB 4.8MB/s eta 0:00:01\r\u001b[K     |███████████████████▉            | 225kB 4.8MB/s eta 0:00:01\r\u001b[K     |████████████████████▊           | 235kB 4.8MB/s eta 0:00:01\r\u001b[K     |█████████████████████▋          | 245kB 4.8MB/s eta 0:00:01\r\u001b[K     |██████████████████████▌         | 256kB 4.8MB/s eta 0:00:01\r\u001b[K     |███████████████████████▍        | 266kB 4.8MB/s eta 0:00:01\r\u001b[K     |████████████████████████▎       | 276kB 4.8MB/s eta 0:00:01\r\u001b[K     |█████████████████████████▏      | 286kB 4.8MB/s eta 0:00:01\r\u001b[K     |██████████████████████████      | 296kB 4.8MB/s eta 0:00:01\r\u001b[K     |███████████████████████████     | 307kB 4.8MB/s eta 0:00:01\r\u001b[K     |████████████████████████████    | 317kB 4.8MB/s eta 0:00:01\r\u001b[K     |████████████████████████████▉   | 327kB 4.8MB/s eta 0:00:01\r\u001b[K     |█████████████████████████████▊  | 337kB 4.8MB/s eta 0:00:01\r\u001b[K     |██████████████████████████████▋ | 348kB 4.8MB/s eta 0:00:01\r\u001b[K     |███████████████████████████████▌| 358kB 4.8MB/s eta 0:00:01\r\u001b[K     |████████████████████████████████| 368kB 4.8MB/s \n",
            "\u001b[?25hRequirement already satisfied: scipy>=0.15 in /usr/local/lib/python3.6/dist-packages (from hmmlearn) (1.4.1)\n",
            "Requirement already satisfied: numpy>=1.10 in /usr/local/lib/python3.6/dist-packages (from hmmlearn) (1.17.5)\n",
            "Requirement already satisfied: scikit-learn>=0.16 in /usr/local/lib/python3.6/dist-packages (from hmmlearn) (0.22.1)\n",
            "Requirement already satisfied: joblib>=0.11 in /usr/local/lib/python3.6/dist-packages (from scikit-learn>=0.16->hmmlearn) (0.14.1)\n",
            "Installing collected packages: hmmlearn\n",
            "Successfully installed hmmlearn-0.2.3\n"
          ],
          "name": "stdout"
        }
      ]
    },
    {
      "cell_type": "code",
      "metadata": {
        "id": "8w6OoNaAaof3",
        "colab_type": "code",
        "colab": {}
      },
      "source": [
        "from hmmlearn import hmm\n",
        "np.random.seed(1234)"
      ],
      "execution_count": 0,
      "outputs": []
    },
    {
      "cell_type": "code",
      "metadata": {
        "id": "3guIfASXavfn",
        "colab_type": "code",
        "colab": {}
      },
      "source": [
        "# Code to build this model is adapted from the following webpage\n",
        "#https://hmmlearn.readthedocs.io/en/latest/tutorial.html\n",
        "\n",
        "#############################\n",
        "# Building HMM model\n",
        "#############################\n",
        "\n",
        "model = hmm.GaussianHMM(n_components=3, covariance_type=\"full\")\n",
        "model.startprob_ = initial_probs\n",
        "model.transmat_ = transition_probs\n",
        "# I am not sure how the model means and covariances work, \n",
        "# I took what was provided in the tutorial link above and tested\n",
        "# that out. \n",
        "model.means_ = np.array([[0.0, 0.0], [3.0, -3.0], [5.0, 10.0]])\n",
        "# this makes sense because our states are independent \n",
        "model.covars_ = np.tile(np.identity(2), (3, 1, 1)) "
      ],
      "execution_count": 0,
      "outputs": []
    },
    {
      "cell_type": "code",
      "metadata": {
        "id": "12I-NQc1cVAz",
        "colab_type": "code",
        "colab": {}
      },
      "source": [
        "######################################\n",
        "# calculating 100 sequences each with \n",
        "# 1000 states\n",
        "######################################\n",
        "\n",
        "hmm_model_list = list()\n",
        "for i in range(0,num_sequences):\n",
        "  X, Z = model.sample(1000)\n",
        "  hmm_model_list.append(Z)"
      ],
      "execution_count": 0,
      "outputs": []
    },
    {
      "cell_type": "code",
      "metadata": {
        "id": "4_3MxKyYcXAX",
        "colab_type": "code",
        "outputId": "382c4356-9284-4ebc-dd21-d27b91d484d6",
        "colab": {
          "base_uri": "https://localhost:8080/",
          "height": 34
        }
      },
      "source": [
        "hmm_model_list[0][0:20]"
      ],
      "execution_count": 0,
      "outputs": [
        {
          "output_type": "execute_result",
          "data": {
            "text/plain": [
              "array([2, 2, 2, 2, 2, 0, 2, 2, 2, 2, 2, 2, 2, 2, 2, 2, 2, 2, 2, 2])"
            ]
          },
          "metadata": {
            "tags": []
          },
          "execution_count": 134
        }
      ]
    },
    {
      "cell_type": "code",
      "metadata": {
        "id": "Mokk5cOndT9Y",
        "colab_type": "code",
        "outputId": "d1f143dd-6545-41c1-c70b-39d7c9b5f078",
        "colab": {
          "base_uri": "https://localhost:8080/",
          "height": 34
        }
      },
      "source": [
        "#####################\n",
        "# Estimating initial \n",
        "# probailities \n",
        "#####################\n",
        "\n",
        "est_hmm_initial_prob_list = np.array([hmm_model_list[i][0] for i in range(0,num_sequences)])\n",
        "\n",
        "estimated_initial_probs = [len(est_hmm_initial_prob_list[est_hmm_initial_prob_list == 0])/len(est_hmm_initial_prob_list),\n",
        "                           len(est_hmm_initial_prob_list[est_hmm_initial_prob_list == 1])/len(est_hmm_initial_prob_list),\n",
        "                           len(est_hmm_initial_prob_list[est_hmm_initial_prob_list == 2])/len(est_hmm_initial_prob_list)]\n",
        "estimated_initial_probs"
      ],
      "execution_count": 0,
      "outputs": [
        {
          "output_type": "execute_result",
          "data": {
            "text/plain": [
              "[0.55, 0.22, 0.23]"
            ]
          },
          "metadata": {
            "tags": []
          },
          "execution_count": 137
        }
      ]
    },
    {
      "cell_type": "markdown",
      "metadata": {
        "id": "gHBdSBWwfu-o",
        "colab_type": "text"
      },
      "source": [
        "Similar to our intial probability matrix but the third state value is only .23, compared to .3"
      ]
    },
    {
      "cell_type": "code",
      "metadata": {
        "id": "2Lrcjjxnfi2h",
        "colab_type": "code",
        "colab": {}
      },
      "source": [
        "#####################\n",
        "# Estimating transitional \n",
        "# probailities \n",
        "#####################\n",
        "\n",
        "count_hmm_matrix = np.zeros(shape =(3,3))"
      ],
      "execution_count": 0,
      "outputs": []
    },
    {
      "cell_type": "code",
      "metadata": {
        "id": "WrVs_sGxgFwe",
        "colab_type": "code",
        "colab": {}
      },
      "source": [
        "transitional_hmm_combos = [[0,0],\n",
        "                       [0,1],\n",
        "                       [0,2],\n",
        "                       [1,0],\n",
        "                       [1,1],\n",
        "                       [1,2],\n",
        "                       [2,0],\n",
        "                       [2,1],\n",
        "                       [2,2]]\n",
        "\n",
        "for i in range(0,num_sequences):\n",
        "  for j in range(0,num_states):\n",
        "    if(all(hmm_model_list[i][j:j+2] == transitional_hmm_combos[0])):\n",
        "      count_hmm_matrix[0][0] += 1\n",
        "    if(all(hmm_model_list[i][j:j+2] == transitional_hmm_combos[1])):\n",
        "      count_hmm_matrix[0][1] += 1\n",
        "    if(all(hmm_model_list[i][j:j+2] == transitional_hmm_combos[2])):\n",
        "      count_hmm_matrix[0][2] += 1\n",
        "    if(all(hmm_model_list[i][j:j+2] == transitional_hmm_combos[3])):\n",
        "      count_hmm_matrix[1][0] += 1\n",
        "    if(all(hmm_model_list[i][j:j+2] == transitional_hmm_combos[4])):\n",
        "      count_hmm_matrix[1][1] += 1 \n",
        "    if(all(hmm_model_list[i][j:j+2] == transitional_hmm_combos[5])): \n",
        "      count_hmm_matrix[1][2] += 1\n",
        "    if(all(hmm_model_list[i][j:j+2] == transitional_hmm_combos[6])): \n",
        "      count_hmm_matrix[2][0] += 1\n",
        "    if(all(hmm_model_list[i][j:j+2] == transitional_hmm_combos[7])):\n",
        "      count_hmm_matrix[2][1] += 1 \n",
        "    if(all(hmm_model_list[i][j:j+2] == transitional_hmm_combos[8])): \n",
        "      count_hmm_matrix[2][2] += 1\n",
        "\n"
      ],
      "execution_count": 0,
      "outputs": []
    },
    {
      "cell_type": "code",
      "metadata": {
        "id": "5D5pR6Htg4QS",
        "colab_type": "code",
        "outputId": "0e8108ce-5d4f-4469-9dfc-9c5e09e3a99b",
        "colab": {
          "base_uri": "https://localhost:8080/",
          "height": 68
        }
      },
      "source": [
        "np.round([count_hmm_matrix[0]/sum(count_hmm_matrix)[0],\n",
        " count_hmm_matrix[1]/sum(count_hmm_matrix)[1],\n",
        " count_hmm_matrix[2]/sum(count_hmm_matrix)[2]],2)"
      ],
      "execution_count": 0,
      "outputs": [
        {
          "output_type": "execute_result",
          "data": {
            "text/plain": [
              "array([[0.4, 0.3, 0.3],\n",
              "       [0.2, 0.6, 0.2],\n",
              "       [0.1, 0.1, 0.8]])"
            ]
          },
          "metadata": {
            "tags": []
          },
          "execution_count": 153
        }
      ]
    },
    {
      "cell_type": "markdown",
      "metadata": {
        "id": "VyFAy2uiiN4f",
        "colab_type": "text"
      },
      "source": [
        "Estimated transitional probabilities are similar to the initial transitional probability matrix provided in the question."
      ]
    },
    {
      "cell_type": "code",
      "metadata": {
        "id": "G_g02eS6iVHs",
        "colab_type": "code",
        "colab": {}
      },
      "source": [
        ""
      ],
      "execution_count": 0,
      "outputs": []
    }
  ]
}